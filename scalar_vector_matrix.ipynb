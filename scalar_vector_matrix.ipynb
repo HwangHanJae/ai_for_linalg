{
  "nbformat": 4,
  "nbformat_minor": 0,
  "metadata": {
    "colab": {
      "name": "scalar_vector_matrix.ipynb",
      "provenance": [],
      "authorship_tag": "ABX9TyNc4QPM9gh77+60XAcqXspB",
      "include_colab_link": true
    },
    "kernelspec": {
      "name": "python3",
      "display_name": "Python 3"
    },
    "language_info": {
      "name": "python"
    }
  },
  "cells": [
    {
      "cell_type": "markdown",
      "metadata": {
        "id": "view-in-github",
        "colab_type": "text"
      },
      "source": [
        "<a href=\"https://colab.research.google.com/github/HwangHanJae/ai_for_linalg/blob/main/scalar_vector_matrix.ipynb\" target=\"_parent\"><img src=\"https://colab.research.google.com/assets/colab-badge.svg\" alt=\"Open In Colab\"/></a>"
      ]
    },
    {
      "cell_type": "markdown",
      "source": [
        "scalar : 숫자 - ${1}, {2}, {2.3}$\n",
        "\n",
        "vector : 리스트 형태의 숫자 - $x = [1\\;0\\;2]\\;or\\;x = \\begin{bmatrix}1\\\\0\\\\2\\end{bmatrix}$\n",
        "\n",
        "matrix : 2차원 리스트형태의 숫자 - $A = \\begin{bmatrix}1&4\\\\2&5\\\\3&6\\end{bmatrix}$ "
      ],
      "metadata": {
        "id": "czB3nyPwuLRR"
      }
    },
    {
      "cell_type": "code",
      "execution_count": 3,
      "metadata": {
        "colab": {
          "base_uri": "https://localhost:8080/"
        },
        "id": "IiU-gXcdt86H",
        "outputId": "6ec67275-f980-4f94-c008-cfd31ff79c5d"
      },
      "outputs": [
        {
          "output_type": "stream",
          "name": "stdout",
          "text": [
            "scalar : \n",
            " 1\n",
            "vector : \n",
            " [1 0 2]\n",
            "matrix : \n",
            " [[1 4]\n",
            " [2 5]\n",
            " [3 6]]\n"
          ]
        }
      ],
      "source": [
        "#라이브러리 로드\n",
        "import numpy as np\n",
        "\n",
        "scalar = 1\n",
        "\n",
        "vector = np.array([1, 0, 2])\n",
        "\n",
        "matrix = np.array([[1,4],[2,5],[3,6]])\n",
        "\n",
        "print(\"scalar : \\n\", scalar)\n",
        "print(\"vector : \\n\", vector)\n",
        "print(\"matrix : \\n\", matrix)\n"
      ]
    },
    {
      "cell_type": "markdown",
      "source": [
        "넘파이 라이브러리를 사용하면 vector와 matrix로 쉽게 형태를 바꿀 수 있음"
      ],
      "metadata": {
        "id": "bL5SKJw9xRhG"
      }
    },
    {
      "cell_type": "markdown",
      "source": [
        "vector를 표현할때 기본적으로 열벡터(column vector)  x = $\\begin{bmatrix}1\\\\0\\\\2\\end{bmatrix}$의 모습을 사용한다.\n",
        "\n",
        "행백터(row vector)는 보통 열벡터를 transpose하여 표현한다. - $x^T=\\begin{bmatrix}1\\\\0\\\\2\\end{bmatrix}^{T}$\n"
      ],
      "metadata": {
        "id": "tHl0sf0_vY-s"
      }
    },
    {
      "cell_type": "markdown",
      "source": [
        "정방행렬(Square matrix) : row와 column의 길이가 서로 같을때  \n",
        "ex) : $Square\\;matrix = \\begin{bmatrix}1&3\\\\2&4\\end{bmatrix}$\n",
        "\n",
        "직사각행렬(Rectangular matrix) : row와 column의 길이가 서로 다를때  \n",
        "ex) : $Rectangular\\;matrix = A = \\begin{bmatrix}1&4\\\\2&5\\\\3&6\\end{bmatrix}$\n",
        "\n",
        "전치행렬(Transpose Matrix) : 위의 직사각행렬을 전치해보았을 때 :  \n",
        "ex) : $Transpose\\;Matrix = A^T = \\begin{bmatrix}1&2&3\\\\4&5&6\\end{bmatrix}$"
      ],
      "metadata": {
        "id": "TJ0qVj0-v17b"
      }
    },
    {
      "cell_type": "code",
      "source": [
        "test_array = [[1,4],[2,5],[3,6]]\n",
        "A = np.array(test_array)\n",
        "print('A : \\n', A)\n",
        "\n",
        "A_t = A.transpose()\n",
        "\n",
        "print(\"A_t : \\n\", A_t)"
      ],
      "metadata": {
        "colab": {
          "base_uri": "https://localhost:8080/"
        },
        "id": "nhGLm9fSvO6X",
        "outputId": "87ebe5a3-ca52-4f93-a5c6-e9f89424f563"
      },
      "execution_count": 5,
      "outputs": [
        {
          "output_type": "stream",
          "name": "stdout",
          "text": [
            "A : \n",
            " [[1 4]\n",
            " [2 5]\n",
            " [3 6]]\n",
            "A_t : \n",
            " [[1 2 3]\n",
            " [4 5 6]]\n"
          ]
        }
      ]
    },
    {
      "cell_type": "markdown",
      "source": [
        "transpose() 함수를 사용하면 전치행렬을 만들 수 있음"
      ],
      "metadata": {
        "id": "py1DXBOCxY_e"
      }
    },
    {
      "cell_type": "markdown",
      "source": [
        "vector를 연산할때 분배법칙이나 결합법칙이 가능하다.\n",
        "\n",
        "하지만 matrix를 사용하여 연산을 할때는 조심해야한다.  \n",
        "A(2x3)와B(3x5)와 같은 형태의 matrix가 존재할 때 AxB는 가능하지만\n",
        "BxA는 가능하지 않다.  "
      ],
      "metadata": {
        "id": "cRR3C_RMxdM0"
      }
    },
    {
      "cell_type": "code",
      "source": [
        "a = np.arange(6).reshape(2,3)\n",
        "b = np.arange(15).reshape(3,5)\n",
        "\n",
        "print('a : \\n',a)\n",
        "print('b : \\n',b)\n",
        "\n",
        "print(\"AB : \\n\", np.matmul(a,b))\n",
        "print(\"BA : \\n\", np.matmul(b, a))"
      ],
      "metadata": {
        "colab": {
          "base_uri": "https://localhost:8080/",
          "height": 374
        },
        "id": "enMGroDjyciG",
        "outputId": "b7f150c3-4b1a-4020-97c0-058dab96b127"
      },
      "execution_count": 11,
      "outputs": [
        {
          "output_type": "stream",
          "name": "stdout",
          "text": [
            "a : \n",
            " [[0 1 2]\n",
            " [3 4 5]]\n",
            "b : \n",
            " [[ 0  1  2  3  4]\n",
            " [ 5  6  7  8  9]\n",
            " [10 11 12 13 14]]\n",
            "AB : \n",
            " [[ 25  28  31  34  37]\n",
            " [ 70  82  94 106 118]]\n"
          ]
        },
        {
          "output_type": "error",
          "ename": "ValueError",
          "evalue": "ignored",
          "traceback": [
            "\u001b[0;31m---------------------------------------------------------------------------\u001b[0m",
            "\u001b[0;31mValueError\u001b[0m                                Traceback (most recent call last)",
            "\u001b[0;32m<ipython-input-11-284237022e9d>\u001b[0m in \u001b[0;36m<module>\u001b[0;34m()\u001b[0m\n\u001b[1;32m      6\u001b[0m \u001b[0;34m\u001b[0m\u001b[0m\n\u001b[1;32m      7\u001b[0m \u001b[0mprint\u001b[0m\u001b[0;34m(\u001b[0m\u001b[0;34m\"AB : \\n\"\u001b[0m\u001b[0;34m,\u001b[0m \u001b[0mnp\u001b[0m\u001b[0;34m.\u001b[0m\u001b[0mmatmul\u001b[0m\u001b[0;34m(\u001b[0m\u001b[0ma\u001b[0m\u001b[0;34m,\u001b[0m\u001b[0mb\u001b[0m\u001b[0;34m)\u001b[0m\u001b[0;34m)\u001b[0m\u001b[0;34m\u001b[0m\u001b[0;34m\u001b[0m\u001b[0m\n\u001b[0;32m----> 8\u001b[0;31m \u001b[0mprint\u001b[0m\u001b[0;34m(\u001b[0m\u001b[0;34m\"BA : \\n\"\u001b[0m\u001b[0;34m,\u001b[0m \u001b[0mnp\u001b[0m\u001b[0;34m.\u001b[0m\u001b[0mmatmul\u001b[0m\u001b[0;34m(\u001b[0m\u001b[0mb\u001b[0m\u001b[0;34m,\u001b[0m \u001b[0ma\u001b[0m\u001b[0;34m)\u001b[0m\u001b[0;34m)\u001b[0m\u001b[0;34m\u001b[0m\u001b[0;34m\u001b[0m\u001b[0m\n\u001b[0m",
            "\u001b[0;31mValueError\u001b[0m: matmul: Input operand 1 has a mismatch in its core dimension 0, with gufunc signature (n?,k),(k,m?)->(n?,m?) (size 2 is different from 5)"
          ]
        }
      ]
    },
    {
      "cell_type": "markdown",
      "source": [
        "AB는 정상적으로 실행이 되지만, BA는 정상적으로 실행되지 않는 것을 확인할 수 있다.\n",
        "\n",
        "A(2x3) B(3x5)는 A의 열과 B의 행의 숫자가 같으니 이것을 보고 가능과 불가능을 확인할 수 있다. AB의 결과는 2x5의 결과가 나오게 된다."
      ],
      "metadata": {
        "id": "4kVqKR1XzIth"
      }
    },
    {
      "cell_type": "markdown",
      "source": [
        "A(2x2), B(2x2) 있을때 AB != BA의 결과가 나오게 된다."
      ],
      "metadata": {
        "id": "Ep8fJhEMznxs"
      }
    },
    {
      "cell_type": "code",
      "source": [
        "a = np.arange(4).reshape(2,2)\n",
        "b = np.arange(4,8).reshape(2,2)\n",
        "\n",
        "print('a : \\n',a)\n",
        "print('b : \\n',b)\n",
        "\n",
        "print(\"AB : \\n\", np.matmul(a,b))\n",
        "print(\"BA : \\n\", np.matmul(b,a))"
      ],
      "metadata": {
        "colab": {
          "base_uri": "https://localhost:8080/"
        },
        "id": "1XFbLnSNzxFp",
        "outputId": "7dde001e-9f5d-455b-8272-50a3afeb91d2"
      },
      "execution_count": 14,
      "outputs": [
        {
          "output_type": "stream",
          "name": "stdout",
          "text": [
            "a : \n",
            " [[0 1]\n",
            " [2 3]]\n",
            "b : \n",
            " [[4 5]\n",
            " [6 7]]\n",
            "AB : \n",
            " [[ 6  7]\n",
            " [26 31]]\n",
            "BA : \n",
            " [[10 19]\n",
            " [14 27]]\n"
          ]
        }
      ]
    }
  ]
}